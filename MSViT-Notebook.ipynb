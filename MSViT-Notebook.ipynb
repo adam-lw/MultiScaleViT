{
 "cells": [
  {
   "cell_type": "markdown",
   "metadata": {},
   "source": [
    "# Computer Vision Experiment Interface\n",
    "An interface for running computer vision experiments. Provides the capability for easy model creation, tuning, and testing without needing to worry about code reusability.\n",
    "\n",
    "By Adam Williams"
   ]
  },
  {
   "cell_type": "markdown",
   "metadata": {},
   "source": [
    "### Import Dependencies"
   ]
  },
  {
   "cell_type": "code",
   "execution_count": 1,
   "metadata": {},
   "outputs": [],
   "source": [
    "from Lib.ExperimentInterface import ExperimentInterface"
   ]
  },
  {
   "cell_type": "markdown",
   "metadata": {},
   "source": [
    "### Configure our experiment runner\n",
    "We import a generic list of experiment parameters from a specified settings file, but individual parameters can be modified later. I implemented it this way since we often have a lot of parameters, so it helps to keep the code tidy."
   ]
  },
  {
   "cell_type": "code",
   "execution_count": 2,
   "metadata": {},
   "outputs": [
    {
     "name": "stdout",
     "output_type": "stream",
     "text": [
      "Creating settings file...\n",
      "Writing YAML to Config/Settings.yaml\n"
     ]
    }
   ],
   "source": [
    "regenerate_settings_file = True\n",
    "settings_file = \"Config/Settings.yaml\"\n",
    "\n",
    "if regenerate_settings_file:\n",
    "    interface = ExperimentInterface()\n",
    "    interface.createSettingsFile(settings_file)\n",
    "    interface.updateConfig(settings_file)\n",
    "else:\n",
    "    interface = ExperimentInterface(settings_file)"
   ]
  },
  {
   "cell_type": "markdown",
   "metadata": {},
   "source": [
    "### Run experiments\n",
    "Using `runExperiment`'s keyword arguments, we can modify the imported experiment parameters manually. This allows us to iterate through different experiment configurations and perform hyperparameter tuning if we'd like to."
   ]
  },
  {
   "cell_type": "code",
   "execution_count": 3,
   "metadata": {},
   "outputs": [
    {
     "name": "stdout",
     "output_type": "stream",
     "text": [
      "Trying to import Lib.Models.ViT.ViT\n",
      "Successfully found: <class 'Lib.Models.ViT.ViT'>\n"
     ]
    },
    {
     "ename": "TypeError",
     "evalue": "instantiateSettings() missing 1 required positional argument: 'localParams'",
     "output_type": "error",
     "traceback": [
      "\u001b[1;31m---------------------------------------------------------------------------\u001b[0m",
      "\u001b[1;31mTypeError\u001b[0m                                 Traceback (most recent call last)",
      "\u001b[1;32md:\\Projects\\MultiScaleViT\\MSViT-Notebook.ipynb Cell 7\u001b[0m line \u001b[0;36m1\n\u001b[1;32m----> <a href='vscode-notebook-cell:/d%3A/Projects/MultiScaleViT/MSViT-Notebook.ipynb#W6sZmlsZQ%3D%3D?line=0'>1</a>\u001b[0m interface\u001b[39m.\u001b[39;49mrunExperiment()\n",
      "File \u001b[1;32md:\\Projects\\MultiScaleViT\\Lib\\ExperimentInterface.py:91\u001b[0m, in \u001b[0;36mExperimentInterface.runExperiment\u001b[1;34m(self, **kwargs)\u001b[0m\n\u001b[0;32m     88\u001b[0m     localParams[key] \u001b[39m=\u001b[39m item\n\u001b[0;32m     90\u001b[0m \u001b[39m# Instantiate experiment settings\u001b[39;00m\n\u001b[1;32m---> 91\u001b[0m localParams \u001b[39m=\u001b[39m Utils\u001b[39m.\u001b[39;49minstantiateSettings(localParams)\n\u001b[0;32m     93\u001b[0m \u001b[39m# Provide model with config details\u001b[39;00m\n\u001b[0;32m     94\u001b[0m model\u001b[39m.\u001b[39mset_config(localParams)\n",
      "\u001b[1;31mTypeError\u001b[0m: instantiateSettings() missing 1 required positional argument: 'localParams'"
     ]
    }
   ],
   "source": [
    "interface.runExperiment()"
   ]
  }
 ],
 "metadata": {
  "kernelspec": {
   "display_name": "base",
   "language": "python",
   "name": "python3"
  },
  "language_info": {
   "codemirror_mode": {
    "name": "ipython",
    "version": 3
   },
   "file_extension": ".py",
   "mimetype": "text/x-python",
   "name": "python",
   "nbconvert_exporter": "python",
   "pygments_lexer": "ipython3",
   "version": "3.10.9"
  },
  "orig_nbformat": 4
 },
 "nbformat": 4,
 "nbformat_minor": 2
}
